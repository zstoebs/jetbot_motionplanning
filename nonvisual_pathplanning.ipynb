{
 "cells": [
  {
   "cell_type": "markdown",
   "id": "phantom-radiation",
   "metadata": {},
   "source": [
    "# Non-Visual Motion Planning\n",
    "\n",
    "This notebook contains code for non-visual motion planning -- the primary objective of the project. The code relies on an LMCP solver, in `lmcp.py`, that takes an LMCP formulation in `M, q, l, u, x_0` and returns a path of points of `z,w,v,t`. A pathsolver in `path.py` then iteratively solves LMCPs for Newton points along an overarching path, performing backward linesearch to progress sufficiently down each of these paths towards the predefined goal point. \n",
    "\n",
    "Solving many LMCPs approximates a nonlinear path, which can be formulated as an NMCP for which the KKT conditions must first be derived. In this notebook, the KKT conditions are formulated symbolically so that KKT function as well as the Jacobian of the KKT can be passed to the pathsolver for sparse JIT evaluation, accelerating runtime.\n",
    "\n",
    "This notebook is exploratory and implements an algorithm for moving a JetBot in a small gridworld, according to the positional / velocity values computed by the pathsolver. \n",
    "\n",
    "Findings: \n",
    "- With two obstacles, sometimes the pathsolver fails if dt is too small --> dt > 0.1\n",
    "- Confirmed that the solved states [x,y,vx,vy] closely approximate the dynamics of horizontal motion\n",
    "- JetBot moves forward 40cm in 0.75 sec at speed=1\n",
    "- JetBot rotates 360 degrees in 1 sec at speed=1"
   ]
  },
  {
   "cell_type": "code",
   "execution_count": 1,
   "id": "herbal-organization",
   "metadata": {},
   "outputs": [],
   "source": [
    "import numpy as np\n",
    "from casadi import * \n",
    "import matplotlib.pyplot as plt\n",
    "import time\n",
    "from math import pi\n",
    "\n",
    "from path import path_solver"
   ]
  },
  {
   "cell_type": "code",
   "execution_count": 2,
   "id": "related-labor",
   "metadata": {},
   "outputs": [],
   "source": [
    "# set forward (True) or backward (False) linesearch in pathsolver\n",
    "forward = False\n",
    "\n",
    "# Define a general optimization problem with non-quadratic cost or nonlinear constraints\n",
    "\n",
    "T = 50 # time points --> 51 coords, including initial\n",
    "n = 4\n",
    "m = 2\n",
    "dt = 0.5 # mult of change per time point\n",
    "\n",
    "xinit = np.zeros((4,1))\n",
    "rad = 0.5\n",
    "obs1 = [2,1.]\n",
    "obs2 = [0.5,1]\n",
    "nonlinear_dyn = False\n",
    "if nonlinear_dyn:\n",
    "    goal = [-4,5]\n",
    "else:\n",
    "    goal = [3,1]"
   ]
  },
  {
   "cell_type": "code",
   "execution_count": 3,
   "id": "imperial-somewhere",
   "metadata": {},
   "outputs": [],
   "source": [
    "# Simple car dynamics\n",
    "def f(xt,ut):\n",
    "    y = []\n",
    "    if nonlinear_dyn:\n",
    "        y.append(xt[0]+dt*xt[2]*cos(xt[3]))\n",
    "        y.append(xt[1]+dt*xt[2]*sin(xt[3]))\n",
    "        y.append(xt[2]+dt*ut[0])\n",
    "        y.append(xt[3]+dt*ut[1])\n",
    "    else:\n",
    "        y.append(xt[0]+dt*xt[2])\n",
    "        y.append(xt[1]+dt*xt[3])\n",
    "        y.append(xt[2]+dt*ut[0])\n",
    "        y.append(xt[3]+dt*ut[1])\n",
    "    return y\n"
   ]
  },
  {
   "cell_type": "code",
   "execution_count": 4,
   "id": "cooperative-preview",
   "metadata": {},
   "outputs": [],
   "source": [
    "dynamics = []\n",
    "\n",
    "U = []\n",
    "X = []\n",
    "x0 = MX.sym('x0',n)\n",
    "X.append(x0)\n",
    "dynamics.append(x0-xinit)\n",
    "for t in range(T):\n",
    "    ut = MX.sym('u%s'%t,m)\n",
    "    xtt = MX.sym('x%s'%(t+1),n)\n",
    "    pred = vcat(f(X[-1],ut))\n",
    "    dynamics.append(xtt-pred)\n",
    "    U.append(ut)\n",
    "    X.append(xtt)"
   ]
  },
  {
   "cell_type": "code",
   "execution_count": 5,
   "id": "altered-decision",
   "metadata": {},
   "outputs": [],
   "source": [
    "cost = 10*((X[-1][0]-goal[0])**2 + (X[-1][1]-goal[1])**2)\n",
    "for t in range(T):\n",
    "    cost += (1*U[t][0]**2 + 1*U[t][1]**2)"
   ]
  },
  {
   "cell_type": "code",
   "execution_count": 6,
   "id": "negative-newman",
   "metadata": {},
   "outputs": [],
   "source": [
    "constraints = []\n",
    "for t in range(T):\n",
    "    state = X[t+1]\n",
    "    if nonlinear_dyn:\n",
    "        constraints.append(2-state[0])\n",
    "        constraints.append(state[0]+2)\n",
    "        constraints.append(2-state[1])\n",
    "        constraints.append(state[1]+2)\n",
    "    else:\n",
    "        const1 = (state[0]-obs1[0])**2 + (state[1]-obs1[1])**2 - rad*rad # square distance from obs should be rad*rad\n",
    "        const2 = (state[0]-obs2[0])**2 + (state[1]-obs2[1])**2 - rad*rad\n",
    "        constraints.append(const1)\n",
    "        constraints.append(const2)"
   ]
  },
  {
   "cell_type": "code",
   "execution_count": 7,
   "id": "twelve-marathon",
   "metadata": {},
   "outputs": [],
   "source": [
    "# min_{X,U} cost\n",
    "#  s.t. dynamics = 0\n",
    "#       constraints >= 0\n",
    "\n",
    "# Form KKT conditions\n",
    "\n",
    "all_dyn = vcat(dynamics)\n",
    "all_ineq = vcat(constraints)\n",
    "all_primal_vars = vcat(X+U)\n",
    "\n",
    "\n",
    "dyn_mults = MX.sym('dyn_mults', all_dyn.shape[0])\n",
    "ineq_mults = MX.sym('ineq_mults', all_ineq.shape[0])\n",
    "\n",
    "lag = cost - dot(all_dyn,dyn_mults) - dot(all_ineq,ineq_mults) # grad f - grad g1 - grad g2\n",
    "\n",
    "dlag = jacobian(lag, all_primal_vars)\n",
    "kkt_expr = vcat([dlag.T, all_dyn, all_ineq])\n",
    "all_vars = vcat([all_primal_vars,dyn_mults,ineq_mults])\n",
    "jac_kkt = jacobian(kkt_expr, all_vars)\n",
    "eval_kkt = Function('kkt',[all_vars],[kkt_expr])\n",
    "eval_kkt_jac = Function('kkt',[all_vars],[jac_kkt])\n",
    "\n",
    "N = all_vars.shape[0]\n",
    "nprimal = (T+1)*4 + T*2\n",
    "ndyn = (T+1)*4\n",
    "nineq = all_ineq.shape[0]\n",
    "\n",
    "def feval(y):\n",
    "    return np.array(eval_kkt(y))\n",
    "\n",
    "def dfeval(y):\n",
    "    return np.array(eval_kkt_jac(y))\n",
    "\n",
    "l = np.vstack((-np.inf*np.ones((nprimal+ndyn,1)),np.zeros((nineq,1))))\n",
    "u = np.inf*np.ones((N,1))\n",
    "\n",
    "u_start = np.zeros((T*2,1))\n",
    "if nonlinear_dyn:\n",
    "    u0 = np.array([0.1,-0.01]).reshape(2,1)\n",
    "else:\n",
    "    u0 = np.array([0,1]).reshape(2,1)\n",
    "\n",
    "x_start = np.zeros(((T+1)*4,1))\n",
    "x_start[0:4] = xinit\n",
    "for t in range(T):\n",
    "    u_start[t*2:(t+1)*2] = u0\n",
    "    x_start[(t+1)*4:(t+2)*4] = f(x_start[(t)*4:(t+1)*4], u_start[(t)*2:(t+1)*2])\n",
    "\n",
    "x0 = np.vstack((x_start,u_start,np.zeros(((ndyn+nineq,1)))))"
   ]
  },
  {
   "cell_type": "code",
   "execution_count": 8,
   "id": "scheduled-findings",
   "metadata": {},
   "outputs": [
    {
     "name": "stdout",
     "output_type": "stream",
     "text": [
      "iter 0 52048274977.83203\n",
      "path len 4\n",
      "iter 1 2733027552.9150743\n",
      "path len 5\n",
      "iter 2 272681703.5614318\n",
      "path len 30\n",
      "iter 3 63740173.376527935\n",
      "path len 38\n",
      "iter 4 20539857.330470677\n",
      "path len 75\n",
      "iter 5 2646340.244514066\n",
      "path len 32\n",
      "iter 6 266227.4029232209\n",
      "path len 58\n",
      "iter 7 36963.02489330297\n",
      "path len 18\n",
      "iter 8 4788.260043673757\n",
      "path len 60\n",
      "iter 9 893.2783467308113\n",
      "path len 10\n",
      "iter 10 113.04264525179123\n",
      "path len 34\n",
      "iter 11 34.35521821917583\n",
      "path len 5\n",
      "iter 12 14.584334019899725\n",
      "path len 34\n",
      "iter 13 0.7642907395788037\n",
      "path len 7\n",
      "iter 14 0.0083109913169516\n",
      "path len 2\n",
      "iter 15 1.356154045897297e-06\n",
      "Success? True\n"
     ]
    }
   ],
   "source": [
    "[z,w,v,success] = path_solver(feval, dfeval, l, u, x0=x0, sigma=0.1, max_iters=100, tol=1e-4, forward=forward, linesearch=nonlinear_dyn)\n",
    "print('Success?', success)\n",
    "# print(\"--- %s seconds ---\" % (time() - start_time))\n",
    "traj = z[0:(T+1)*4]\n",
    "\n",
    "# each z for each time point is split into 4 [x,y,u1,u2] --> get every 4th for vars at each point\n",
    "px = traj[0::4].reshape(-1,)\n",
    "py = traj[1::4].reshape(-1,)\n",
    "pvx = traj[2::4].reshape(-1,)\n",
    "pvy = traj[3::4].reshape(-1,)"
   ]
  },
  {
   "cell_type": "code",
   "execution_count": 9,
   "id": "broke-cambodia",
   "metadata": {},
   "outputs": [],
   "source": [
    "# confirm that each state [x,y,vx,vy] adheres to horizontal motion dynamics\n",
    "# for i in range(1,len(px)):\n",
    "#     x = px[i]\n",
    "#     y = py[i]\n",
    "#     print(x, px[i-1]+dt*pvx[i-1])\n",
    "#     print(y, py[i-1]+dt*pvy[i-1])"
   ]
  },
  {
   "cell_type": "markdown",
   "id": "cardiac-biotechnology",
   "metadata": {},
   "source": [
    "1. Speed Control (speed_gain_slider): To start your JetBot increase ``speed_gain_slider`` \n",
    "2. Steering Gain Control (steering_gain_slider): If you see JetBot is wobbling, you need to reduce ``steering_gain_slider`` till it is smooth\n",
    "3. Steering Bias control (steering_bias_slider): If you see JetBot is biased towards extreme right or extreme left side of the track, you should control this slider till JetBot start following line or track in the center.  This accounts for motor biases as well as camera offsets"
   ]
  },
  {
   "cell_type": "code",
   "execution_count": 10,
   "id": "personal-raleigh",
   "metadata": {},
   "outputs": [
    {
     "data": {
      "application/vnd.jupyter.widget-view+json": {
       "model_id": "db46d5df7af344c78ae5c20c7e17b330",
       "version_major": 2,
       "version_minor": 0
      },
      "text/plain": [
       "FloatSlider(value=0.1, description='speed gain', max=1.0, step=0.01)"
      ]
     },
     "metadata": {},
     "output_type": "display_data"
    },
    {
     "data": {
      "application/vnd.jupyter.widget-view+json": {
       "model_id": "78730f43fe444748a88160f0d37e92f9",
       "version_major": 2,
       "version_minor": 0
      },
      "text/plain": [
       "FloatSlider(value=0.2, description='steering gain', max=1.0, step=0.01)"
      ]
     },
     "metadata": {},
     "output_type": "display_data"
    },
    {
     "data": {
      "application/vnd.jupyter.widget-view+json": {
       "model_id": "874cab4c7eac470e825cf2ba9e184ffd",
       "version_major": 2,
       "version_minor": 0
      },
      "text/plain": [
       "FloatSlider(value=0.0, description='steering kd', max=0.5, step=0.001)"
      ]
     },
     "metadata": {},
     "output_type": "display_data"
    },
    {
     "data": {
      "application/vnd.jupyter.widget-view+json": {
       "model_id": "c89f192e94d541bdac8a34b661cab5de",
       "version_major": 2,
       "version_minor": 0
      },
      "text/plain": [
       "FloatSlider(value=0.0, description='steering bias', max=0.3, min=-0.3, step=0.01)"
      ]
     },
     "metadata": {},
     "output_type": "display_data"
    },
    {
     "data": {
      "application/vnd.jupyter.widget-view+json": {
       "model_id": "cd572a581a5e4085ac221d2f5fd3a0de",
       "version_major": 2,
       "version_minor": 0
      },
      "text/plain": [
       "HBox(children=(FloatSlider(value=0.0, description='y', max=1.0, orientation='vertical'), FloatSlider(value=0.0…"
      ]
     },
     "metadata": {},
     "output_type": "display_data"
    },
    {
     "data": {
      "application/vnd.jupyter.widget-view+json": {
       "model_id": "c4f5eecfff6541398eac412ac0edf39a",
       "version_major": 2,
       "version_minor": 0
      },
      "text/plain": [
       "FloatSlider(value=0.0, description='x', max=1.0, min=-1.0)"
      ]
     },
     "metadata": {},
     "output_type": "display_data"
    },
    {
     "data": {
      "application/vnd.jupyter.widget-view+json": {
       "model_id": "e9555a3614be4ad3bf6f3aa80e3de44b",
       "version_major": 2,
       "version_minor": 0
      },
      "text/plain": [
       "FloatSlider(value=0.0, description='steering', max=1.0, min=-1.0)"
      ]
     },
     "metadata": {},
     "output_type": "display_data"
    },
    {
     "data": {
      "application/vnd.jupyter.widget-view+json": {
       "model_id": "34ce35a0986548fdbd91a5ec6b653bed",
       "version_major": 2,
       "version_minor": 0
      },
      "text/plain": [
       "FloatSlider(value=0.1, description='sleep', max=1.0, step=0.001)"
      ]
     },
     "metadata": {},
     "output_type": "display_data"
    }
   ],
   "source": [
    "from jetbot_motion import JetBotMotion\n",
    "from jetbot import Robot\n",
    "\n",
    "robot = Robot()\n",
    "\n",
    "motion = JetBotMotion(robot, dt)"
   ]
  },
  {
   "cell_type": "code",
   "execution_count": 14,
   "id": "affected-operations",
   "metadata": {},
   "outputs": [
    {
     "name": "stdout",
     "output_type": "stream",
     "text": [
      "Moved to  (0.0, 0.0)\n",
      "Moved to  (-7.517135062566164e-17, 3.2381504884900395e-17)\n",
      "Moved to  (-0.0029105719283362965, 0.010198891655224166)\n",
      "Moved to  (-0.008240582461848918, 0.0298964479155627)\n",
      "Moved to  (-0.015498898277376941, 0.05839244173090468)\n",
      "Moved to  (-0.024194386051762513, 0.09498664605114174)\n",
      "Moved to  (-0.03383591246184429, 0.13897883382616347)\n",
      "Moved to  (-0.04393234418446371, 0.18966877800586016)\n",
      "Moved to  (-0.053992547896458194, 0.24635625154012164)\n"
     ]
    },
    {
     "ename": "KeyboardInterrupt",
     "evalue": "",
     "output_type": "error",
     "traceback": [
      "\u001b[0;31m\u001b[0m",
      "\u001b[0;31mKeyboardInterrupt\u001b[0mTraceback (most recent call last)",
      "\u001b[0;32m<ipython-input-14-c43544a106c5>\u001b[0m in \u001b[0;36m<module>\u001b[0;34m\u001b[0m\n\u001b[1;32m      4\u001b[0m \u001b[0;32mfor\u001b[0m \u001b[0mx\u001b[0m\u001b[0;34m,\u001b[0m \u001b[0my\u001b[0m\u001b[0;34m,\u001b[0m \u001b[0mvx\u001b[0m\u001b[0;34m,\u001b[0m \u001b[0mvy\u001b[0m \u001b[0;32min\u001b[0m \u001b[0mzip\u001b[0m\u001b[0;34m(\u001b[0m\u001b[0mpx\u001b[0m\u001b[0;34m,\u001b[0m\u001b[0mpy\u001b[0m\u001b[0;34m,\u001b[0m \u001b[0mpvx\u001b[0m\u001b[0;34m,\u001b[0m \u001b[0mpvy\u001b[0m\u001b[0;34m)\u001b[0m\u001b[0;34m:\u001b[0m\u001b[0;34m\u001b[0m\u001b[0;34m\u001b[0m\u001b[0m\n\u001b[1;32m      5\u001b[0m \u001b[0;31m#     motion.MoveTo(x, y, vx, vy)\u001b[0m\u001b[0;34m\u001b[0m\u001b[0;34m\u001b[0m\u001b[0;34m\u001b[0m\u001b[0m\n\u001b[0;32m----> 6\u001b[0;31m     \u001b[0mmotion\u001b[0m\u001b[0;34m.\u001b[0m\u001b[0mManhattan\u001b[0m\u001b[0;34m(\u001b[0m\u001b[0mx\u001b[0m\u001b[0;34m,\u001b[0m\u001b[0my\u001b[0m\u001b[0;34m,\u001b[0m\u001b[0mvx\u001b[0m\u001b[0;34m,\u001b[0m\u001b[0mvy\u001b[0m\u001b[0;34m)\u001b[0m\u001b[0;34m\u001b[0m\u001b[0;34m\u001b[0m\u001b[0m\n\u001b[0m\u001b[1;32m      7\u001b[0m \u001b[0;34m\u001b[0m\u001b[0m\n\u001b[1;32m      8\u001b[0m \u001b[0mrobot\u001b[0m\u001b[0;34m.\u001b[0m\u001b[0mstop\u001b[0m\u001b[0;34m(\u001b[0m\u001b[0;34m)\u001b[0m\u001b[0;34m\u001b[0m\u001b[0;34m\u001b[0m\u001b[0m\n",
      "\u001b[0;32m/workspace/jetbot/notebooks/cgt_motion_planning/jetbot_motion.py\u001b[0m in \u001b[0;36mManhattan\u001b[0;34m(self, x, y, vx, vy)\u001b[0m\n\u001b[1;32m    150\u001b[0m \u001b[0;34m\u001b[0m\u001b[0m\n\u001b[1;32m    151\u001b[0m             \u001b[0;32mif\u001b[0m \u001b[0my_diff\u001b[0m \u001b[0;34m>\u001b[0m \u001b[0;36m0.0\u001b[0m\u001b[0;34m:\u001b[0m\u001b[0;34m\u001b[0m\u001b[0;34m\u001b[0m\u001b[0m\n\u001b[0;32m--> 152\u001b[0;31m                 \u001b[0mself\u001b[0m\u001b[0;34m.\u001b[0m\u001b[0mLeftFor\u001b[0m\u001b[0;34m(\u001b[0m\u001b[0mty\u001b[0m\u001b[0;34m)\u001b[0m\u001b[0;34m\u001b[0m\u001b[0;34m\u001b[0m\u001b[0m\n\u001b[0m\u001b[1;32m    153\u001b[0m             \u001b[0;32melif\u001b[0m \u001b[0my_diff\u001b[0m \u001b[0;34m<\u001b[0m \u001b[0;34m-\u001b[0m\u001b[0;36m0.0\u001b[0m\u001b[0;34m:\u001b[0m\u001b[0;34m\u001b[0m\u001b[0;34m\u001b[0m\u001b[0m\n\u001b[1;32m    154\u001b[0m                 \u001b[0mself\u001b[0m\u001b[0;34m.\u001b[0m\u001b[0mRightFor\u001b[0m\u001b[0;34m(\u001b[0m\u001b[0mty\u001b[0m\u001b[0;34m)\u001b[0m\u001b[0;34m\u001b[0m\u001b[0;34m\u001b[0m\u001b[0m\n",
      "\u001b[0;32m/workspace/jetbot/notebooks/cgt_motion_planning/jetbot_motion.py\u001b[0m in \u001b[0;36mLeftFor\u001b[0;34m(self, t)\u001b[0m\n\u001b[1;32m    114\u001b[0m \u001b[0;34m\u001b[0m\u001b[0m\n\u001b[1;32m    115\u001b[0m     \u001b[0;32mdef\u001b[0m \u001b[0mLeftFor\u001b[0m\u001b[0;34m(\u001b[0m\u001b[0mself\u001b[0m\u001b[0;34m,\u001b[0m\u001b[0mt\u001b[0m\u001b[0;34m)\u001b[0m\u001b[0;34m:\u001b[0m\u001b[0;34m\u001b[0m\u001b[0;34m\u001b[0m\u001b[0m\n\u001b[0;32m--> 116\u001b[0;31m         \u001b[0mself\u001b[0m\u001b[0;34m.\u001b[0m\u001b[0mTurnLeft\u001b[0m\u001b[0;34m(\u001b[0m\u001b[0;34m)\u001b[0m\u001b[0;34m\u001b[0m\u001b[0;34m\u001b[0m\u001b[0m\n\u001b[0m\u001b[1;32m    117\u001b[0m         \u001b[0mself\u001b[0m\u001b[0;34m.\u001b[0m\u001b[0mForwardFor\u001b[0m\u001b[0;34m(\u001b[0m\u001b[0mt\u001b[0m\u001b[0;34m)\u001b[0m\u001b[0;34m\u001b[0m\u001b[0;34m\u001b[0m\u001b[0m\n\u001b[1;32m    118\u001b[0m \u001b[0;34m\u001b[0m\u001b[0m\n",
      "\u001b[0;32m/workspace/jetbot/notebooks/cgt_motion_planning/jetbot_motion.py\u001b[0m in \u001b[0;36mTurnLeft\u001b[0;34m(self)\u001b[0m\n\u001b[1;32m    100\u001b[0m     \u001b[0;32mdef\u001b[0m \u001b[0mTurnLeft\u001b[0m\u001b[0;34m(\u001b[0m\u001b[0mself\u001b[0m\u001b[0;34m)\u001b[0m\u001b[0;34m:\u001b[0m\u001b[0;34m\u001b[0m\u001b[0;34m\u001b[0m\u001b[0m\n\u001b[1;32m    101\u001b[0m         \u001b[0mself\u001b[0m\u001b[0;34m.\u001b[0m\u001b[0mrobot\u001b[0m\u001b[0;34m.\u001b[0m\u001b[0mset_motors\u001b[0m\u001b[0;34m(\u001b[0m\u001b[0;36m0.4\u001b[0m\u001b[0;34m,\u001b[0m\u001b[0;34m-\u001b[0m\u001b[0;36m0.1\u001b[0m\u001b[0;34m)\u001b[0m\u001b[0;34m\u001b[0m\u001b[0;34m\u001b[0m\u001b[0m\n\u001b[0;32m--> 102\u001b[0;31m         \u001b[0mtime\u001b[0m\u001b[0;34m.\u001b[0m\u001b[0msleep\u001b[0m\u001b[0;34m(\u001b[0m\u001b[0;36m1\u001b[0m\u001b[0;34m)\u001b[0m\u001b[0;34m\u001b[0m\u001b[0;34m\u001b[0m\u001b[0m\n\u001b[0m\u001b[1;32m    103\u001b[0m         \u001b[0mself\u001b[0m\u001b[0;34m.\u001b[0m\u001b[0mrobot\u001b[0m\u001b[0;34m.\u001b[0m\u001b[0mstop\u001b[0m\u001b[0;34m(\u001b[0m\u001b[0;34m)\u001b[0m\u001b[0;34m\u001b[0m\u001b[0;34m\u001b[0m\u001b[0m\n\u001b[1;32m    104\u001b[0m \u001b[0;34m\u001b[0m\u001b[0m\n",
      "\u001b[0;31mKeyboardInterrupt\u001b[0m: "
     ]
    }
   ],
   "source": [
    "time.sleep(5) # for taking videos\n",
    "\n",
    "motion.Reset()\n",
    "for x, y, vx, vy in zip(px,py, pvx, pvy): \n",
    "#     motion.MoveTo(x, y, vx, vy)\n",
    "    motion.Manhattan(x,y,vx,vy)\n",
    "\n",
    "robot.stop()"
   ]
  },
  {
   "cell_type": "code",
   "execution_count": 15,
   "id": "august-rugby",
   "metadata": {},
   "outputs": [
    {
     "name": "stdout",
     "output_type": "stream",
     "text": [
      "Turned by angle  45.0\n",
      "Moved to  (1, 1)\n"
     ]
    }
   ],
   "source": [
    "### motion debug\n",
    "\n",
    "# time.sleep(5)\n",
    "# robot.stop()\n",
    "\n",
    "motion.Reset()\n",
    "motion.MoveTo(1,1,0,0)\n",
    "\n",
    "# motion.MoveTo(1,0,0,0)\n",
    "# motion.MoveTo(-1,0,0,0)\n",
    "# motion.MoveTo(-1,-1,0,0)\n",
    "# motion.MoveTo(0,1,0,0)\n",
    "\n",
    "# robot.set_motors(0.4,0.09)\n",
    "# time.sleep(2)\n",
    "# robot.stop()\n",
    "\n",
    "# robot.backward(1)\n",
    "# time.sleep(1)\n",
    "# robot.stop()\n",
    "\n",
    "# robot.left(1)\n",
    "# time.sleep(1)\n",
    "# robot.stop()\n",
    "\n",
    "# motion.TurnRight()\n",
    "# motion.TurnLeft()\n",
    "# motion.TurnBy(3.14)"
   ]
  },
  {
   "cell_type": "code",
   "execution_count": 25,
   "id": "corresponding-saint",
   "metadata": {},
   "outputs": [
    {
     "data": {
      "image/png": "[encoded data removed]",
      "text/plain": [
       "<Figure size 432x288 with 1 Axes>"
      ]
     },
     "metadata": {
      "needs_background": "light"
     },
     "output_type": "display_data"
    }
   ],
   "source": [
    "if nonlinear_dyn:\n",
    "    plt.plot([-2,-2,2,2,-2],[-2,2,2,-2,-2])\n",
    "else: # plot a circle for obst\n",
    "    R = np.linspace(0,6.3,100)\n",
    "    plt.plot(rad*cos(R)+obs1[0],rad*sin(R)+obs1[1])\n",
    "#     plt.plot(rad * cos(R) + obs2[0], rad * sin(R) + obs2[1])\n",
    "plt.figure\n",
    "plt.plot(px,py)\n",
    "plt.axis([-4,4,-4,4])\n",
    "plt.axis('square')\n",
    "plt.show()"
   ]
  },
  {
   "cell_type": "code",
   "execution_count": null,
   "id": "coral-greenhouse",
   "metadata": {},
   "outputs": [],
   "source": []
  }
 ],
 "metadata": {
  "kernelspec": {
   "display_name": "Python 3",
   "language": "python",
   "name": "python3"
  },
  "language_info": {
   "codemirror_mode": {
    "name": "ipython",
    "version": 3
   },
   "file_extension": ".py",
   "mimetype": "text/x-python",
   "name": "python",
   "nbconvert_exporter": "python",
   "pygments_lexer": "ipython3",
   "version": "3.6.9"
  }
 },
 "nbformat": 4,
 "nbformat_minor": 5
}
